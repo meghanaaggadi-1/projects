{
  "nbformat": 4,
  "nbformat_minor": 0,
  "metadata": {
    "colab": {
      "provenance": [],
      "authorship_tag": "ABX9TyOc9VvPGn4Czu29A6NuyOr4",
      "include_colab_link": true
    },
    "kernelspec": {
      "name": "python3",
      "display_name": "Python 3"
    },
    "language_info": {
      "name": "python"
    }
  },
  "cells": [
    {
      "cell_type": "markdown",
      "metadata": {
        "id": "view-in-github",
        "colab_type": "text"
      },
      "source": [
        "<a href=\"https://colab.research.google.com/github/meghanaaggadi-1/projects/blob/masterr/image2stringvv_4.ipynb\" target=\"_parent\"><img src=\"https://colab.research.google.com/assets/colab-badge.svg\" alt=\"Open In Colab\"/></a>"
      ]
    },
    {
      "cell_type": "markdown",
      "source": [
        "IMAGE TO STRING & VIVE VERSA"
      ],
      "metadata": {
        "id": "rhUZBPidxpjP"
      }
    },
    {
      "cell_type": "code",
      "execution_count": null,
      "metadata": {
        "id": "nhogsKVdQRsD",
        "colab": {
          "base_uri": "https://localhost:8080/"
        },
        "outputId": "963e12f2-e29b-4448-9f84-96dd8d2bf511"
      },
      "outputs": [
        {
          "output_type": "stream",
          "name": "stdout",
          "text": [
            "b'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'\n"
          ]
        }
      ],
      "source": [
        "import base64\n",
        "with open(\"/meghana.jpg\", \"rb\") as image2string:\n",
        "\tconverted_string = base64.b64encode(image2string.read())\n",
        "print(converted_string)\n",
        "with open('encode.bin', \"wb\") as file:\n",
        "\tfile.write(converted_string)\n",
        "\n"
      ]
    },
    {
      "cell_type": "code",
      "source": [
        "import base64\n",
        "file = open('encode.bin', 'rb')\n",
        "byte = file.read()\n",
        "file.close()\n",
        "decodeit = open('meghana.jpeg', 'wb')\n",
        "decodeit.write(base64.b64decode((byte)))\n",
        "decodeit.close()\n"
      ],
      "metadata": {
        "id": "DUpHam1xdI_1"
      },
      "execution_count": null,
      "outputs": []
    },
    {
      "cell_type": "code",
      "source": [
        "import base64\n",
        "\n",
        "file = open('encode.bin', 'rb')\n",
        "byte = file.read()\n",
        "file.close()\n",
        "\n",
        "decodeit = open('megha.jpg', 'wb')\n",
        "sd=decodeit.write(base64.b64decode((byte)))\n",
        "print(sd)\n",
        "print(decodeit)\n"
      ],
      "metadata": {
        "colab": {
          "base_uri": "https://localhost:8080/"
        },
        "id": "2-yyEjBeeIRs",
        "outputId": "0970d6d0-8657-4aba-8f06-0443d7b9dc64"
      },
      "execution_count": null,
      "outputs": [
        {
          "output_type": "stream",
          "name": "stdout",
          "text": [
            "11442\n",
            "<_io.BufferedWriter name='megha.jpg'>\n"
          ]
        }
      ]
    },
    {
      "cell_type": "code",
      "source": [],
      "metadata": {
        "id": "u4uH_ME5ibU2"
      },
      "execution_count": null,
      "outputs": []
    }
  ]
}